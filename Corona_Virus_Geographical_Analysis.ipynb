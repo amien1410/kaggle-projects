{
  "cells": [
    {
      "cell_type": "markdown",
      "metadata": {
        "id": "view-in-github",
        "colab_type": "text"
      },
      "source": [
        "<a href=\"https://colab.research.google.com/github/amien1410/kaggle-projects/blob/main/Corona_Virus_Geographical_Analysis.ipynb\" target=\"_parent\"><img src=\"https://colab.research.google.com/assets/colab-badge.svg\" alt=\"Open In Colab\"/></a>"
      ]
    },
    {
      "cell_type": "code",
      "execution_count": null,
      "metadata": {
        "id": "n_ocUoD_Ch8W"
      },
      "outputs": [],
      "source": [
        "#@title Install Kaggle Modules to download the dataset\n",
        "!pip install kaggle\n",
        "\n",
        "# Load Kaggle user authorization key\n",
        "import os\n",
        "os.environ['KAGGLE_CONFIG_DIR'] = '/content/drive/MyDrive/kaggle'\n",
        "\n",
        "# Download the dataset, get the user and dataset name from the url \"https://www.kaggle.com/datasets/shivamb/netflix-shows\"\n",
        "!kaggle datasets download -d shivamb/netflix-shows\n",
        "\n",
        "# Unzip the dataset\n",
        "!unzip -q \"/content/netflix-shows\""
      ]
    }
  ],
  "metadata": {
    "colab": {
      "provenance": [],
      "authorship_tag": "ABX9TyMHEgaQNCMvlhqFJCmTw3Mk",
      "include_colab_link": true
    },
    "kernelspec": {
      "display_name": "Python 3",
      "name": "python3"
    },
    "language_info": {
      "name": "python"
    }
  },
  "nbformat": 4,
  "nbformat_minor": 0
}