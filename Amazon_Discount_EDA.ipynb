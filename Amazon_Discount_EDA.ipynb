{
  "cells": [
    {
      "cell_type": "markdown",
      "metadata": {
        "id": "view-in-github",
        "colab_type": "text"
      },
      "source": [
        "<a href=\"https://colab.research.google.com/github/amien1410/kaggle-projects/blob/main/Amazon_Discount_EDA.ipynb\" target=\"_parent\"><img src=\"https://colab.research.google.com/assets/colab-badge.svg\" alt=\"Open In Colab\"/></a>"
      ]
    },
    {
      "cell_type": "code",
      "execution_count": 1,
      "metadata": {
        "id": "n_ocUoD_Ch8W",
        "colab": {
          "base_uri": "https://localhost:8080/"
        },
        "outputId": "853c2f01-f9b0-496b-c1e4-d3a7dbe17e95"
      },
      "outputs": [
        {
          "output_type": "stream",
          "name": "stdout",
          "text": [
            "Requirement already satisfied: kaggle in /usr/local/lib/python3.10/dist-packages (1.6.17)\n",
            "Requirement already satisfied: six>=1.10 in /usr/local/lib/python3.10/dist-packages (from kaggle) (1.16.0)\n",
            "Requirement already satisfied: certifi>=2023.7.22 in /usr/local/lib/python3.10/dist-packages (from kaggle) (2024.7.4)\n",
            "Requirement already satisfied: python-dateutil in /usr/local/lib/python3.10/dist-packages (from kaggle) (2.8.2)\n",
            "Requirement already satisfied: requests in /usr/local/lib/python3.10/dist-packages (from kaggle) (2.31.0)\n",
            "Requirement already satisfied: tqdm in /usr/local/lib/python3.10/dist-packages (from kaggle) (4.66.4)\n",
            "Requirement already satisfied: python-slugify in /usr/local/lib/python3.10/dist-packages (from kaggle) (8.0.4)\n",
            "Requirement already satisfied: urllib3 in /usr/local/lib/python3.10/dist-packages (from kaggle) (2.0.7)\n",
            "Requirement already satisfied: bleach in /usr/local/lib/python3.10/dist-packages (from kaggle) (6.1.0)\n",
            "Requirement already satisfied: webencodings in /usr/local/lib/python3.10/dist-packages (from bleach->kaggle) (0.5.1)\n",
            "Requirement already satisfied: text-unidecode>=1.3 in /usr/local/lib/python3.10/dist-packages (from python-slugify->kaggle) (1.3)\n",
            "Requirement already satisfied: charset-normalizer<4,>=2 in /usr/local/lib/python3.10/dist-packages (from requests->kaggle) (3.3.2)\n",
            "Requirement already satisfied: idna<4,>=2.5 in /usr/local/lib/python3.10/dist-packages (from requests->kaggle) (3.7)\n",
            "Dataset URL: https://www.kaggle.com/datasets/lokeshparab/amazon-products-dataset\n",
            "License(s): Attribution-NonCommercial 4.0 International (CC BY-NC 4.0)\n",
            "Downloading amazon-products-dataset.zip to /content\n",
            " 92% 73.0M/79.7M [00:00<00:00, 137MB/s]\n",
            "100% 79.7M/79.7M [00:00<00:00, 146MB/s]\n"
          ]
        }
      ],
      "source": [
        "#@title Install Kaggle Modules to download the dataset\n",
        "!pip install kaggle\n",
        "\n",
        "# Load Kaggle user authorization key\n",
        "import os\n",
        "os.environ['KAGGLE_CONFIG_DIR'] = '/content/drive/MyDrive/kaggle'\n",
        "\n",
        "# Download the dataset, get the user and dataset name from the url \"https://www.kaggle.com/datasets/shivamb/netflix-shows\"\n",
        "!kaggle datasets download -d lokeshparab/amazon-products-dataset\n",
        "\n",
        "# Unzip the dataset\n",
        "!unzip -q \"/content/amazon-products-dataset\"\n",
        "\n",
        "# Source https://www.kaggle.com/code/ivanisaev/mazon-dataset-discounts-eda"
      ]
    },
    {
      "cell_type": "code",
      "source": [
        "#@title Import Libraries and Load Dataset\n",
        "import numpy as np # linear algebra\n",
        "import pandas as pd # data processing, CSV file I/O (e.g. pd.read_csv)\n",
        "import plotly.express as px\n",
        "import os\n",
        "path = \"/content/Amazon-Products.csv\"\n",
        "df = pd.read_csv(path, low_memory=False)\n",
        "df.head()"
      ],
      "metadata": {
        "id": "WPCuYR_f4HNN",
        "outputId": "359a2946-0185-4e24-d228-d9e1daa0e779",
        "colab": {
          "base_uri": "https://localhost:8080/",
          "height": 764
        }
      },
      "execution_count": 2,
      "outputs": [
        {
          "output_type": "execute_result",
          "data": {
            "text/plain": [
              "   Unnamed: 0                                               name  \\\n",
              "0           0  Lloyd 1.5 Ton 3 Star Inverter Split Ac (5 In 1...   \n",
              "1           1  LG 1.5 Ton 5 Star AI DUAL Inverter Split AC (C...   \n",
              "2           2  LG 1 Ton 4 Star Ai Dual Inverter Split Ac (Cop...   \n",
              "3           3  LG 1.5 Ton 3 Star AI DUAL Inverter Split AC (C...   \n",
              "4           4  Carrier 1.5 Ton 3 Star Inverter Split AC (Copp...   \n",
              "\n",
              "  main_category      sub_category  \\\n",
              "0    appliances  Air Conditioners   \n",
              "1    appliances  Air Conditioners   \n",
              "2    appliances  Air Conditioners   \n",
              "3    appliances  Air Conditioners   \n",
              "4    appliances  Air Conditioners   \n",
              "\n",
              "                                               image  \\\n",
              "0  https://m.media-amazon.com/images/I/31UISB90sY...   \n",
              "1  https://m.media-amazon.com/images/I/51JFb7FctD...   \n",
              "2  https://m.media-amazon.com/images/I/51JFb7FctD...   \n",
              "3  https://m.media-amazon.com/images/I/51JFb7FctD...   \n",
              "4  https://m.media-amazon.com/images/I/41lrtqXPiW...   \n",
              "\n",
              "                                                link ratings no_of_ratings  \\\n",
              "0  https://www.amazon.in/Lloyd-Inverter-Convertib...     4.2         2,255   \n",
              "1  https://www.amazon.in/LG-Convertible-Anti-Viru...     4.2         2,948   \n",
              "2  https://www.amazon.in/LG-Inverter-Convertible-...     4.2         1,206   \n",
              "3  https://www.amazon.in/LG-Convertible-Anti-Viru...     4.0            69   \n",
              "4  https://www.amazon.in/Carrier-Inverter-Split-C...     4.1           630   \n",
              "\n",
              "  discount_price actual_price  \n",
              "0        ₹32,999      ₹58,990  \n",
              "1        ₹46,490      ₹75,990  \n",
              "2        ₹34,490      ₹61,990  \n",
              "3        ₹37,990      ₹68,990  \n",
              "4        ₹34,490      ₹67,790  "
            ],
            "text/html": [
              "\n",
              "  <div id=\"df-3be70503-a8de-4c05-86a0-bed324f592f5\" class=\"colab-df-container\">\n",
              "    <div>\n",
              "<style scoped>\n",
              "    .dataframe tbody tr th:only-of-type {\n",
              "        vertical-align: middle;\n",
              "    }\n",
              "\n",
              "    .dataframe tbody tr th {\n",
              "        vertical-align: top;\n",
              "    }\n",
              "\n",
              "    .dataframe thead th {\n",
              "        text-align: right;\n",
              "    }\n",
              "</style>\n",
              "<table border=\"1\" class=\"dataframe\">\n",
              "  <thead>\n",
              "    <tr style=\"text-align: right;\">\n",
              "      <th></th>\n",
              "      <th>Unnamed: 0</th>\n",
              "      <th>name</th>\n",
              "      <th>main_category</th>\n",
              "      <th>sub_category</th>\n",
              "      <th>image</th>\n",
              "      <th>link</th>\n",
              "      <th>ratings</th>\n",
              "      <th>no_of_ratings</th>\n",
              "      <th>discount_price</th>\n",
              "      <th>actual_price</th>\n",
              "    </tr>\n",
              "  </thead>\n",
              "  <tbody>\n",
              "    <tr>\n",
              "      <th>0</th>\n",
              "      <td>0</td>\n",
              "      <td>Lloyd 1.5 Ton 3 Star Inverter Split Ac (5 In 1...</td>\n",
              "      <td>appliances</td>\n",
              "      <td>Air Conditioners</td>\n",
              "      <td>https://m.media-amazon.com/images/I/31UISB90sY...</td>\n",
              "      <td>https://www.amazon.in/Lloyd-Inverter-Convertib...</td>\n",
              "      <td>4.2</td>\n",
              "      <td>2,255</td>\n",
              "      <td>₹32,999</td>\n",
              "      <td>₹58,990</td>\n",
              "    </tr>\n",
              "    <tr>\n",
              "      <th>1</th>\n",
              "      <td>1</td>\n",
              "      <td>LG 1.5 Ton 5 Star AI DUAL Inverter Split AC (C...</td>\n",
              "      <td>appliances</td>\n",
              "      <td>Air Conditioners</td>\n",
              "      <td>https://m.media-amazon.com/images/I/51JFb7FctD...</td>\n",
              "      <td>https://www.amazon.in/LG-Convertible-Anti-Viru...</td>\n",
              "      <td>4.2</td>\n",
              "      <td>2,948</td>\n",
              "      <td>₹46,490</td>\n",
              "      <td>₹75,990</td>\n",
              "    </tr>\n",
              "    <tr>\n",
              "      <th>2</th>\n",
              "      <td>2</td>\n",
              "      <td>LG 1 Ton 4 Star Ai Dual Inverter Split Ac (Cop...</td>\n",
              "      <td>appliances</td>\n",
              "      <td>Air Conditioners</td>\n",
              "      <td>https://m.media-amazon.com/images/I/51JFb7FctD...</td>\n",
              "      <td>https://www.amazon.in/LG-Inverter-Convertible-...</td>\n",
              "      <td>4.2</td>\n",
              "      <td>1,206</td>\n",
              "      <td>₹34,490</td>\n",
              "      <td>₹61,990</td>\n",
              "    </tr>\n",
              "    <tr>\n",
              "      <th>3</th>\n",
              "      <td>3</td>\n",
              "      <td>LG 1.5 Ton 3 Star AI DUAL Inverter Split AC (C...</td>\n",
              "      <td>appliances</td>\n",
              "      <td>Air Conditioners</td>\n",
              "      <td>https://m.media-amazon.com/images/I/51JFb7FctD...</td>\n",
              "      <td>https://www.amazon.in/LG-Convertible-Anti-Viru...</td>\n",
              "      <td>4.0</td>\n",
              "      <td>69</td>\n",
              "      <td>₹37,990</td>\n",
              "      <td>₹68,990</td>\n",
              "    </tr>\n",
              "    <tr>\n",
              "      <th>4</th>\n",
              "      <td>4</td>\n",
              "      <td>Carrier 1.5 Ton 3 Star Inverter Split AC (Copp...</td>\n",
              "      <td>appliances</td>\n",
              "      <td>Air Conditioners</td>\n",
              "      <td>https://m.media-amazon.com/images/I/41lrtqXPiW...</td>\n",
              "      <td>https://www.amazon.in/Carrier-Inverter-Split-C...</td>\n",
              "      <td>4.1</td>\n",
              "      <td>630</td>\n",
              "      <td>₹34,490</td>\n",
              "      <td>₹67,790</td>\n",
              "    </tr>\n",
              "  </tbody>\n",
              "</table>\n",
              "</div>\n",
              "    <div class=\"colab-df-buttons\">\n",
              "\n",
              "  <div class=\"colab-df-container\">\n",
              "    <button class=\"colab-df-convert\" onclick=\"convertToInteractive('df-3be70503-a8de-4c05-86a0-bed324f592f5')\"\n",
              "            title=\"Convert this dataframe to an interactive table.\"\n",
              "            style=\"display:none;\">\n",
              "\n",
              "  <svg xmlns=\"http://www.w3.org/2000/svg\" height=\"24px\" viewBox=\"0 -960 960 960\">\n",
              "    <path d=\"M120-120v-720h720v720H120Zm60-500h600v-160H180v160Zm220 220h160v-160H400v160Zm0 220h160v-160H400v160ZM180-400h160v-160H180v160Zm440 0h160v-160H620v160ZM180-180h160v-160H180v160Zm440 0h160v-160H620v160Z\"/>\n",
              "  </svg>\n",
              "    </button>\n",
              "\n",
              "  <style>\n",
              "    .colab-df-container {\n",
              "      display:flex;\n",
              "      gap: 12px;\n",
              "    }\n",
              "\n",
              "    .colab-df-convert {\n",
              "      background-color: #E8F0FE;\n",
              "      border: none;\n",
              "      border-radius: 50%;\n",
              "      cursor: pointer;\n",
              "      display: none;\n",
              "      fill: #1967D2;\n",
              "      height: 32px;\n",
              "      padding: 0 0 0 0;\n",
              "      width: 32px;\n",
              "    }\n",
              "\n",
              "    .colab-df-convert:hover {\n",
              "      background-color: #E2EBFA;\n",
              "      box-shadow: 0px 1px 2px rgba(60, 64, 67, 0.3), 0px 1px 3px 1px rgba(60, 64, 67, 0.15);\n",
              "      fill: #174EA6;\n",
              "    }\n",
              "\n",
              "    .colab-df-buttons div {\n",
              "      margin-bottom: 4px;\n",
              "    }\n",
              "\n",
              "    [theme=dark] .colab-df-convert {\n",
              "      background-color: #3B4455;\n",
              "      fill: #D2E3FC;\n",
              "    }\n",
              "\n",
              "    [theme=dark] .colab-df-convert:hover {\n",
              "      background-color: #434B5C;\n",
              "      box-shadow: 0px 1px 3px 1px rgba(0, 0, 0, 0.15);\n",
              "      filter: drop-shadow(0px 1px 2px rgba(0, 0, 0, 0.3));\n",
              "      fill: #FFFFFF;\n",
              "    }\n",
              "  </style>\n",
              "\n",
              "    <script>\n",
              "      const buttonEl =\n",
              "        document.querySelector('#df-3be70503-a8de-4c05-86a0-bed324f592f5 button.colab-df-convert');\n",
              "      buttonEl.style.display =\n",
              "        google.colab.kernel.accessAllowed ? 'block' : 'none';\n",
              "\n",
              "      async function convertToInteractive(key) {\n",
              "        const element = document.querySelector('#df-3be70503-a8de-4c05-86a0-bed324f592f5');\n",
              "        const dataTable =\n",
              "          await google.colab.kernel.invokeFunction('convertToInteractive',\n",
              "                                                    [key], {});\n",
              "        if (!dataTable) return;\n",
              "\n",
              "        const docLinkHtml = 'Like what you see? Visit the ' +\n",
              "          '<a target=\"_blank\" href=https://colab.research.google.com/notebooks/data_table.ipynb>data table notebook</a>'\n",
              "          + ' to learn more about interactive tables.';\n",
              "        element.innerHTML = '';\n",
              "        dataTable['output_type'] = 'display_data';\n",
              "        await google.colab.output.renderOutput(dataTable, element);\n",
              "        const docLink = document.createElement('div');\n",
              "        docLink.innerHTML = docLinkHtml;\n",
              "        element.appendChild(docLink);\n",
              "      }\n",
              "    </script>\n",
              "  </div>\n",
              "\n",
              "\n",
              "<div id=\"df-ca4964ae-e693-4010-9ec0-f41e7678ce78\">\n",
              "  <button class=\"colab-df-quickchart\" onclick=\"quickchart('df-ca4964ae-e693-4010-9ec0-f41e7678ce78')\"\n",
              "            title=\"Suggest charts\"\n",
              "            style=\"display:none;\">\n",
              "\n",
              "<svg xmlns=\"http://www.w3.org/2000/svg\" height=\"24px\"viewBox=\"0 0 24 24\"\n",
              "     width=\"24px\">\n",
              "    <g>\n",
              "        <path d=\"M19 3H5c-1.1 0-2 .9-2 2v14c0 1.1.9 2 2 2h14c1.1 0 2-.9 2-2V5c0-1.1-.9-2-2-2zM9 17H7v-7h2v7zm4 0h-2V7h2v10zm4 0h-2v-4h2v4z\"/>\n",
              "    </g>\n",
              "</svg>\n",
              "  </button>\n",
              "\n",
              "<style>\n",
              "  .colab-df-quickchart {\n",
              "      --bg-color: #E8F0FE;\n",
              "      --fill-color: #1967D2;\n",
              "      --hover-bg-color: #E2EBFA;\n",
              "      --hover-fill-color: #174EA6;\n",
              "      --disabled-fill-color: #AAA;\n",
              "      --disabled-bg-color: #DDD;\n",
              "  }\n",
              "\n",
              "  [theme=dark] .colab-df-quickchart {\n",
              "      --bg-color: #3B4455;\n",
              "      --fill-color: #D2E3FC;\n",
              "      --hover-bg-color: #434B5C;\n",
              "      --hover-fill-color: #FFFFFF;\n",
              "      --disabled-bg-color: #3B4455;\n",
              "      --disabled-fill-color: #666;\n",
              "  }\n",
              "\n",
              "  .colab-df-quickchart {\n",
              "    background-color: var(--bg-color);\n",
              "    border: none;\n",
              "    border-radius: 50%;\n",
              "    cursor: pointer;\n",
              "    display: none;\n",
              "    fill: var(--fill-color);\n",
              "    height: 32px;\n",
              "    padding: 0;\n",
              "    width: 32px;\n",
              "  }\n",
              "\n",
              "  .colab-df-quickchart:hover {\n",
              "    background-color: var(--hover-bg-color);\n",
              "    box-shadow: 0 1px 2px rgba(60, 64, 67, 0.3), 0 1px 3px 1px rgba(60, 64, 67, 0.15);\n",
              "    fill: var(--button-hover-fill-color);\n",
              "  }\n",
              "\n",
              "  .colab-df-quickchart-complete:disabled,\n",
              "  .colab-df-quickchart-complete:disabled:hover {\n",
              "    background-color: var(--disabled-bg-color);\n",
              "    fill: var(--disabled-fill-color);\n",
              "    box-shadow: none;\n",
              "  }\n",
              "\n",
              "  .colab-df-spinner {\n",
              "    border: 2px solid var(--fill-color);\n",
              "    border-color: transparent;\n",
              "    border-bottom-color: var(--fill-color);\n",
              "    animation:\n",
              "      spin 1s steps(1) infinite;\n",
              "  }\n",
              "\n",
              "  @keyframes spin {\n",
              "    0% {\n",
              "      border-color: transparent;\n",
              "      border-bottom-color: var(--fill-color);\n",
              "      border-left-color: var(--fill-color);\n",
              "    }\n",
              "    20% {\n",
              "      border-color: transparent;\n",
              "      border-left-color: var(--fill-color);\n",
              "      border-top-color: var(--fill-color);\n",
              "    }\n",
              "    30% {\n",
              "      border-color: transparent;\n",
              "      border-left-color: var(--fill-color);\n",
              "      border-top-color: var(--fill-color);\n",
              "      border-right-color: var(--fill-color);\n",
              "    }\n",
              "    40% {\n",
              "      border-color: transparent;\n",
              "      border-right-color: var(--fill-color);\n",
              "      border-top-color: var(--fill-color);\n",
              "    }\n",
              "    60% {\n",
              "      border-color: transparent;\n",
              "      border-right-color: var(--fill-color);\n",
              "    }\n",
              "    80% {\n",
              "      border-color: transparent;\n",
              "      border-right-color: var(--fill-color);\n",
              "      border-bottom-color: var(--fill-color);\n",
              "    }\n",
              "    90% {\n",
              "      border-color: transparent;\n",
              "      border-bottom-color: var(--fill-color);\n",
              "    }\n",
              "  }\n",
              "</style>\n",
              "\n",
              "  <script>\n",
              "    async function quickchart(key) {\n",
              "      const quickchartButtonEl =\n",
              "        document.querySelector('#' + key + ' button');\n",
              "      quickchartButtonEl.disabled = true;  // To prevent multiple clicks.\n",
              "      quickchartButtonEl.classList.add('colab-df-spinner');\n",
              "      try {\n",
              "        const charts = await google.colab.kernel.invokeFunction(\n",
              "            'suggestCharts', [key], {});\n",
              "      } catch (error) {\n",
              "        console.error('Error during call to suggestCharts:', error);\n",
              "      }\n",
              "      quickchartButtonEl.classList.remove('colab-df-spinner');\n",
              "      quickchartButtonEl.classList.add('colab-df-quickchart-complete');\n",
              "    }\n",
              "    (() => {\n",
              "      let quickchartButtonEl =\n",
              "        document.querySelector('#df-ca4964ae-e693-4010-9ec0-f41e7678ce78 button');\n",
              "      quickchartButtonEl.style.display =\n",
              "        google.colab.kernel.accessAllowed ? 'block' : 'none';\n",
              "    })();\n",
              "  </script>\n",
              "</div>\n",
              "\n",
              "    </div>\n",
              "  </div>\n"
            ],
            "application/vnd.google.colaboratory.intrinsic+json": {
              "type": "dataframe",
              "variable_name": "df"
            }
          },
          "metadata": {},
          "execution_count": 2
        }
      ]
    },
    {
      "cell_type": "code",
      "source": [
        "print(df.shape)\n",
        "print(df.isnull().sum())"
      ],
      "metadata": {
        "id": "ra4l3X0F4cwH",
        "outputId": "4c77aef9-f599-49c8-b1c9-4808da3d03ac",
        "colab": {
          "base_uri": "https://localhost:8080/"
        }
      },
      "execution_count": 3,
      "outputs": [
        {
          "output_type": "stream",
          "name": "stdout",
          "text": [
            "(551585, 10)\n",
            "Unnamed: 0             0\n",
            "name                   0\n",
            "main_category          0\n",
            "sub_category           0\n",
            "image                  0\n",
            "link                   0\n",
            "ratings           175794\n",
            "no_of_ratings     175794\n",
            "discount_price     61163\n",
            "actual_price       17813\n",
            "dtype: int64\n"
          ]
        }
      ]
    },
    {
      "cell_type": "code",
      "source": [
        "#@title Droping the columns with 70% or more missing data\n",
        "\n",
        "perc = 70.0\n",
        "min_count =  int(((100 - perc)/100) * df.shape[1] + 1)\n",
        "mod_df = df.dropna(axis = 1, thresh = min_count)\n",
        "\n",
        "# Number of columns are reduced significantly from 895 to 14\n",
        "mod_df.shape"
      ],
      "metadata": {
        "id": "a7_4bySW4noF",
        "outputId": "4b48d153-73c1-4b26-aa29-42b3269a9555",
        "colab": {
          "base_uri": "https://localhost:8080/"
        }
      },
      "execution_count": 4,
      "outputs": [
        {
          "output_type": "execute_result",
          "data": {
            "text/plain": [
              "(551585, 10)"
            ]
          },
          "metadata": {},
          "execution_count": 4
        }
      ]
    },
    {
      "cell_type": "code",
      "source": [
        "# Checking the data type, missing values in remaining columns\n",
        "mod_df.info()"
      ],
      "metadata": {
        "id": "QDBgSAVC40m7",
        "outputId": "5c3e777c-a52c-4605-a535-635786dfbf75",
        "colab": {
          "base_uri": "https://localhost:8080/"
        }
      },
      "execution_count": 5,
      "outputs": [
        {
          "output_type": "stream",
          "name": "stdout",
          "text": [
            "<class 'pandas.core.frame.DataFrame'>\n",
            "RangeIndex: 551585 entries, 0 to 551584\n",
            "Data columns (total 10 columns):\n",
            " #   Column          Non-Null Count   Dtype \n",
            "---  ------          --------------   ----- \n",
            " 0   Unnamed: 0      551585 non-null  int64 \n",
            " 1   name            551585 non-null  object\n",
            " 2   main_category   551585 non-null  object\n",
            " 3   sub_category    551585 non-null  object\n",
            " 4   image           551585 non-null  object\n",
            " 5   link            551585 non-null  object\n",
            " 6   ratings         375791 non-null  object\n",
            " 7   no_of_ratings   375791 non-null  object\n",
            " 8   discount_price  490422 non-null  object\n",
            " 9   actual_price    533772 non-null  object\n",
            "dtypes: int64(1), object(9)\n",
            "memory usage: 42.1+ MB\n"
          ]
        }
      ]
    },
    {
      "cell_type": "code",
      "source": [
        "# Removing the ₹ sign\n",
        "mod_df[\"discount_price\"] = mod_df[\"discount_price\"].str.split(\" \", expand = True).get(0).str.split(\"₹\", expand = True).get(1)\n",
        "mod_df[\"actual_price\"] = mod_df[\"actual_price\"].str.split(\" \", expand = True).get(0).str.split(\"₹\", expand = True).get(1)\n",
        "\n",
        "# Change commas to dots and change the type to float\n",
        "mod_df['discount_price'] = mod_df[\"discount_price\"].str.replace(',', '').astype(float)\n",
        "mod_df[\"actual_price\"] = mod_df[\"actual_price\"].str.replace(',', '').astype(float)\n",
        "\n",
        "# Modify ratings values\n",
        "mod_df['ratings'].unique()"
      ],
      "metadata": {
        "id": "zU15Rkcq42YE",
        "outputId": "05a98262-b1b4-420b-a217-56126314330f",
        "colab": {
          "base_uri": "https://localhost:8080/"
        }
      },
      "execution_count": 6,
      "outputs": [
        {
          "output_type": "execute_result",
          "data": {
            "text/plain": [
              "array(['4.2', '4.0', '4.1', '4.3', '3.9', '3.8', '3.5', nan, '4.6', '3.3',\n",
              "       '3.4', '3.7', '2.9', '5.0', '4.4', '3.6', '2.7', '4.5', '3.0',\n",
              "       '3.1', '3.2', '4.8', '4.7', '2.5', '1.0', '2.6', '2.8', '2.3',\n",
              "       '1.7', 'Get', '1.8', '2.4', '4.9', '2.2', '1.6', '1.9', '2.0',\n",
              "       '1.4', '2.1', 'FREE', '1.2', '1.3', '1.5', '₹68.99', '₹65', '1.1',\n",
              "       '₹70', '₹100', '₹99', '₹2.99'], dtype=object)"
            ]
          },
          "metadata": {},
          "execution_count": 6
        }
      ]
    },
    {
      "cell_type": "code",
      "source": [
        "# Extract the digits and change the type to float\n",
        "mod_df['ratings'] = mod_df['ratings'].replace(['Get','FREE','₹68.99', '₹65','₹70', '₹100', '₹99', '₹2.99'], '0.0')\n",
        "mod_df['ratings'] = mod_df[\"ratings\"].astype(float)\n",
        "mod_df['ratings'].unique()"
      ],
      "metadata": {
        "id": "UHBfLZVz5HWm",
        "outputId": "38ecb702-16b5-4016-8698-b9a20c1f602d",
        "colab": {
          "base_uri": "https://localhost:8080/"
        }
      },
      "execution_count": 7,
      "outputs": [
        {
          "output_type": "execute_result",
          "data": {
            "text/plain": [
              "array([4.2, 4. , 4.1, 4.3, 3.9, 3.8, 3.5, nan, 4.6, 3.3, 3.4, 3.7, 2.9,\n",
              "       5. , 4.4, 3.6, 2.7, 4.5, 3. , 3.1, 3.2, 4.8, 4.7, 2.5, 1. , 2.6,\n",
              "       2.8, 2.3, 1.7, 0. , 1.8, 2.4, 4.9, 2.2, 1.6, 1.9, 2. , 1.4, 2.1,\n",
              "       1.2, 1.3, 1.5, 1.1])"
            ]
          },
          "metadata": {},
          "execution_count": 7
        }
      ]
    }
  ],
  "metadata": {
    "colab": {
      "provenance": [],
      "authorship_tag": "ABX9TyMBXu7zOyOx5TfRxZHcCqjx",
      "include_colab_link": true
    },
    "kernelspec": {
      "display_name": "Python 3",
      "name": "python3"
    },
    "language_info": {
      "name": "python"
    }
  },
  "nbformat": 4,
  "nbformat_minor": 0
}