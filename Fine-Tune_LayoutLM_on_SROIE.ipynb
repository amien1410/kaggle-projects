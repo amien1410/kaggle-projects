{
  "cells": [
    {
      "cell_type": "markdown",
      "metadata": {
        "id": "view-in-github",
        "colab_type": "text"
      },
      "source": [
        "<a href=\"https://colab.research.google.com/github/amien1410/kaggle-projects/blob/main/Fine-Tune_LayoutLM_on_SROIE.ipynb\" target=\"_parent\"><img src=\"https://colab.research.google.com/assets/colab-badge.svg\" alt=\"Open In Colab\"/></a>"
      ]
    },
    {
      "cell_type": "code",
      "execution_count": null,
      "metadata": {
        "id": "n_ocUoD_Ch8W",
        "colab": {
          "base_uri": "https://localhost:8080/"
        },
        "outputId": "57dd2c40-fcb9-4d16-cfb7-a1500c1fce20"
      },
      "outputs": [
        {
          "output_type": "stream",
          "name": "stdout",
          "text": [
            "Requirement already satisfied: kaggle in /usr/local/lib/python3.10/dist-packages (1.6.14)\n",
            "Requirement already satisfied: six>=1.10 in /usr/local/lib/python3.10/dist-packages (from kaggle) (1.16.0)\n",
            "Requirement already satisfied: certifi>=2023.7.22 in /usr/local/lib/python3.10/dist-packages (from kaggle) (2024.7.4)\n",
            "Requirement already satisfied: python-dateutil in /usr/local/lib/python3.10/dist-packages (from kaggle) (2.8.2)\n",
            "Requirement already satisfied: requests in /usr/local/lib/python3.10/dist-packages (from kaggle) (2.31.0)\n",
            "Requirement already satisfied: tqdm in /usr/local/lib/python3.10/dist-packages (from kaggle) (4.66.4)\n",
            "Requirement already satisfied: python-slugify in /usr/local/lib/python3.10/dist-packages (from kaggle) (8.0.4)\n",
            "Requirement already satisfied: urllib3 in /usr/local/lib/python3.10/dist-packages (from kaggle) (2.0.7)\n",
            "Requirement already satisfied: bleach in /usr/local/lib/python3.10/dist-packages (from kaggle) (6.1.0)\n",
            "Requirement already satisfied: webencodings in /usr/local/lib/python3.10/dist-packages (from bleach->kaggle) (0.5.1)\n",
            "Requirement already satisfied: text-unidecode>=1.3 in /usr/local/lib/python3.10/dist-packages (from python-slugify->kaggle) (1.3)\n",
            "Requirement already satisfied: charset-normalizer<4,>=2 in /usr/local/lib/python3.10/dist-packages (from requests->kaggle) (3.3.2)\n",
            "Requirement already satisfied: idna<4,>=2.5 in /usr/local/lib/python3.10/dist-packages (from requests->kaggle) (3.7)\n",
            "Warning: Looks like you're using an outdated API Version, please consider updating (server 1.6.17 / client 1.6.14)\n",
            "Dataset URL: https://www.kaggle.com/datasets/onchutrng/sroie20192021\n",
            "License(s): unknown\n",
            "Downloading sroie20192021.zip to /content\n",
            " 99% 1.82G/1.84G [00:26<00:00, 68.2MB/s]\n",
            "100% 1.84G/1.84G [00:26<00:00, 74.1MB/s]\n"
          ]
        }
      ],
      "source": [
        "#@title Install Kaggle Modules to download the dataset\n",
        "!pip install kaggle\n",
        "\n",
        "# Load Kaggle user authorization key\n",
        "import os\n",
        "os.environ['KAGGLE_CONFIG_DIR'] = '/content/drive/MyDrive/kaggle'\n",
        "\n",
        "# Download the dataset, get the user and dataset name from the url \"https://www.kaggle.com/datasets/shivamb/netflix-shows\"\n",
        "!kaggle datasets download -d onchutrng/sroie20192021\n",
        "\n",
        "# Unzip the dataset\n",
        "!unzip -q \"/content/sroie20192021\""
      ]
    },
    {
      "cell_type": "code",
      "source": [
        "import os\n",
        "import glob\n",
        "import json\n",
        "import random\n",
        "from pathlib import Path\n",
        "from difflib import SequenceMatcher\n",
        "import shutil\n",
        "from PIL import Image, ImageDraw, ImageFont\n",
        "import cv2\n",
        "import pandas as pd\n",
        "import numpy as np\n",
        "from PIL import Image\n",
        "import matplotlib.pyplot as plt\n",
        "from tqdm.notebook import tqdm\n",
        "from IPython.display import display\n",
        "import matplotlib\n",
        "from matplotlib import pyplot, patches"
      ],
      "metadata": {
        "id": "HwHJMbxKM05Q"
      },
      "execution_count": null,
      "outputs": []
    },
    {
      "cell_type": "code",
      "source": [
        "#@title Preparing the dataset\n",
        "sroie_folder_path = Path('/content/sroie20192021/SROIE2019')\n",
        "example_file = Path('X51005757324.txt')\n",
        "image = Image.open(\"/content/sroie20192021/SROIE2019/0325updated.task1train(626p)/X51005757324.jpg\")\n",
        "image = image.convert(\"RGB\")\n",
        "new_image = image.resize((300, 600))\n",
        "new_image"
      ],
      "metadata": {
        "id": "Vma6ENilO3gu"
      },
      "execution_count": null,
      "outputs": []
    }
  ],
  "metadata": {
    "colab": {
      "provenance": [],
      "authorship_tag": "ABX9TyM2f/3ew52nunKe4I7pdZyZ",
      "include_colab_link": true
    },
    "kernelspec": {
      "display_name": "Python 3",
      "name": "python3"
    },
    "language_info": {
      "name": "python"
    }
  },
  "nbformat": 4,
  "nbformat_minor": 0
}