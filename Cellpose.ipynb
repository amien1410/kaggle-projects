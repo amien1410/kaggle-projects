{
  "cells": [
    {
      "cell_type": "markdown",
      "metadata": {
        "id": "view-in-github",
        "colab_type": "text"
      },
      "source": [
        "<a href=\"https://colab.research.google.com/github/amien1410/kaggle-projects/blob/main/Cellpose.ipynb\" target=\"_parent\"><img src=\"https://colab.research.google.com/assets/colab-badge.svg\" alt=\"Open In Colab\"/></a>"
      ]
    },
    {
      "cell_type": "code",
      "execution_count": null,
      "metadata": {
        "colab": {
          "base_uri": "https://localhost:8080/"
        },
        "id": "j3F55ROBTXWK",
        "outputId": "4b82ceab-6a74-430c-84e8-b3d11df8884f"
      },
      "outputs": [
        {
          "output_type": "stream",
          "name": "stdout",
          "text": [
            "Collecting cellpose\n",
            "  Downloading cellpose-3.0.9-py3-none-any.whl (204 kB)\n",
            "\u001b[?25l     \u001b[90m━━━━━━━━━━━━━━━━━━━━━━━━━━━━━━━━━━━━━━━━\u001b[0m \u001b[32m0.0/204.9 kB\u001b[0m \u001b[31m?\u001b[0m eta \u001b[36m-:--:--\u001b[0m\r\u001b[2K     \u001b[91m━━━━━━━━━━━━━━━━━━━━━━━━━━━━━━━━━━━━━━━\u001b[0m\u001b[91m╸\u001b[0m \u001b[32m204.8/204.9 kB\u001b[0m \u001b[31m6.6 MB/s\u001b[0m eta \u001b[36m0:00:01\u001b[0m\r\u001b[2K     \u001b[90m━━━━━━━━━━━━━━━━━━━━━━━━━━━━━━━━━━━━━━━━\u001b[0m \u001b[32m204.9/204.9 kB\u001b[0m \u001b[31m5.1 MB/s\u001b[0m eta \u001b[36m0:00:00\u001b[0m\n",
            "\u001b[?25hRequirement already satisfied: numpy>=1.20.0 in /usr/local/lib/python3.10/dist-packages (from cellpose) (1.25.2)\n",
            "Requirement already satisfied: scipy in /usr/local/lib/python3.10/dist-packages (from cellpose) (1.11.4)\n",
            "Requirement already satisfied: natsort in /usr/local/lib/python3.10/dist-packages (from cellpose) (8.4.0)\n",
            "Requirement already satisfied: tifffile in /usr/local/lib/python3.10/dist-packages (from cellpose) (2024.5.22)\n",
            "Requirement already satisfied: tqdm in /usr/local/lib/python3.10/dist-packages (from cellpose) (4.66.4)\n",
            "Requirement already satisfied: numba>=0.53.0 in /usr/local/lib/python3.10/dist-packages (from cellpose) (0.58.1)\n",
            "Requirement already satisfied: llvmlite in /usr/local/lib/python3.10/dist-packages (from cellpose) (0.41.1)\n",
            "Requirement already satisfied: torch>=1.6 in /usr/local/lib/python3.10/dist-packages (from cellpose) (2.3.0+cu121)\n",
            "Requirement already satisfied: opencv-python-headless in /usr/local/lib/python3.10/dist-packages (from cellpose) (4.10.0.82)\n",
            "Collecting fastremap (from cellpose)\n",
            "  Downloading fastremap-1.14.1-cp310-cp310-manylinux_2_17_x86_64.manylinux2014_x86_64.whl (6.0 MB)\n",
            "\u001b[2K     \u001b[90m━━━━━━━━━━━━━━━━━━━━━━━━━━━━━━━━━━━━━━━━\u001b[0m \u001b[32m6.0/6.0 MB\u001b[0m \u001b[31m28.5 MB/s\u001b[0m eta \u001b[36m0:00:00\u001b[0m\n",
            "\u001b[?25hCollecting imagecodecs (from cellpose)\n",
            "  Downloading imagecodecs-2024.6.1-cp310-cp310-manylinux_2_17_x86_64.manylinux2014_x86_64.whl (39.5 MB)\n",
            "\u001b[2K     \u001b[90m━━━━━━━━━━━━━━━━━━━━━━━━━━━━━━━━━━━━━━━━\u001b[0m \u001b[32m39.5/39.5 MB\u001b[0m \u001b[31m20.8 MB/s\u001b[0m eta \u001b[36m0:00:00\u001b[0m\n",
            "\u001b[?25hCollecting roifile (from cellpose)\n",
            "  Downloading roifile-2024.5.24-py3-none-any.whl (16 kB)\n",
            "Requirement already satisfied: filelock in /usr/local/lib/python3.10/dist-packages (from torch>=1.6->cellpose) (3.14.0)\n",
            "Requirement already satisfied: typing-extensions>=4.8.0 in /usr/local/lib/python3.10/dist-packages (from torch>=1.6->cellpose) (4.12.2)\n",
            "Requirement already satisfied: sympy in /usr/local/lib/python3.10/dist-packages (from torch>=1.6->cellpose) (1.12.1)\n",
            "Requirement already satisfied: networkx in /usr/local/lib/python3.10/dist-packages (from torch>=1.6->cellpose) (3.3)\n",
            "Requirement already satisfied: jinja2 in /usr/local/lib/python3.10/dist-packages (from torch>=1.6->cellpose) (3.1.4)\n",
            "Requirement already satisfied: fsspec in /usr/local/lib/python3.10/dist-packages (from torch>=1.6->cellpose) (2023.6.0)\n",
            "Collecting nvidia-cuda-nvrtc-cu12==12.1.105 (from torch>=1.6->cellpose)\n",
            "  Using cached nvidia_cuda_nvrtc_cu12-12.1.105-py3-none-manylinux1_x86_64.whl (23.7 MB)\n",
            "Collecting nvidia-cuda-runtime-cu12==12.1.105 (from torch>=1.6->cellpose)\n",
            "  Using cached nvidia_cuda_runtime_cu12-12.1.105-py3-none-manylinux1_x86_64.whl (823 kB)\n",
            "Collecting nvidia-cuda-cupti-cu12==12.1.105 (from torch>=1.6->cellpose)\n",
            "  Using cached nvidia_cuda_cupti_cu12-12.1.105-py3-none-manylinux1_x86_64.whl (14.1 MB)\n",
            "Collecting nvidia-cudnn-cu12==8.9.2.26 (from torch>=1.6->cellpose)\n",
            "  Using cached nvidia_cudnn_cu12-8.9.2.26-py3-none-manylinux1_x86_64.whl (731.7 MB)\n",
            "Collecting nvidia-cublas-cu12==12.1.3.1 (from torch>=1.6->cellpose)\n",
            "  Using cached nvidia_cublas_cu12-12.1.3.1-py3-none-manylinux1_x86_64.whl (410.6 MB)\n",
            "Collecting nvidia-cufft-cu12==11.0.2.54 (from torch>=1.6->cellpose)\n",
            "  Using cached nvidia_cufft_cu12-11.0.2.54-py3-none-manylinux1_x86_64.whl (121.6 MB)\n",
            "Collecting nvidia-curand-cu12==10.3.2.106 (from torch>=1.6->cellpose)\n",
            "  Using cached nvidia_curand_cu12-10.3.2.106-py3-none-manylinux1_x86_64.whl (56.5 MB)\n",
            "Collecting nvidia-cusolver-cu12==11.4.5.107 (from torch>=1.6->cellpose)\n",
            "  Using cached nvidia_cusolver_cu12-11.4.5.107-py3-none-manylinux1_x86_64.whl (124.2 MB)\n",
            "Collecting nvidia-cusparse-cu12==12.1.0.106 (from torch>=1.6->cellpose)\n",
            "  Using cached nvidia_cusparse_cu12-12.1.0.106-py3-none-manylinux1_x86_64.whl (196.0 MB)\n",
            "Collecting nvidia-nccl-cu12==2.20.5 (from torch>=1.6->cellpose)\n",
            "  Using cached nvidia_nccl_cu12-2.20.5-py3-none-manylinux2014_x86_64.whl (176.2 MB)\n",
            "Collecting nvidia-nvtx-cu12==12.1.105 (from torch>=1.6->cellpose)\n",
            "  Using cached nvidia_nvtx_cu12-12.1.105-py3-none-manylinux1_x86_64.whl (99 kB)\n",
            "Requirement already satisfied: triton==2.3.0 in /usr/local/lib/python3.10/dist-packages (from torch>=1.6->cellpose) (2.3.0)\n",
            "Collecting nvidia-nvjitlink-cu12 (from nvidia-cusolver-cu12==11.4.5.107->torch>=1.6->cellpose)\n",
            "  Downloading nvidia_nvjitlink_cu12-12.5.40-py3-none-manylinux2014_x86_64.whl (21.3 MB)\n",
            "\u001b[2K     \u001b[90m━━━━━━━━━━━━━━━━━━━━━━━━━━━━━━━━━━━━━━━━\u001b[0m \u001b[32m21.3/21.3 MB\u001b[0m \u001b[31m16.0 MB/s\u001b[0m eta \u001b[36m0:00:00\u001b[0m\n",
            "\u001b[?25hRequirement already satisfied: MarkupSafe>=2.0 in /usr/local/lib/python3.10/dist-packages (from jinja2->torch>=1.6->cellpose) (2.1.5)\n",
            "Requirement already satisfied: mpmath<1.4.0,>=1.1.0 in /usr/local/lib/python3.10/dist-packages (from sympy->torch>=1.6->cellpose) (1.3.0)\n",
            "Installing collected packages: roifile, nvidia-nvtx-cu12, nvidia-nvjitlink-cu12, nvidia-nccl-cu12, nvidia-curand-cu12, nvidia-cufft-cu12, nvidia-cuda-runtime-cu12, nvidia-cuda-nvrtc-cu12, nvidia-cuda-cupti-cu12, nvidia-cublas-cu12, imagecodecs, fastremap, nvidia-cusparse-cu12, nvidia-cudnn-cu12, nvidia-cusolver-cu12, cellpose\n",
            "Successfully installed cellpose-3.0.9 fastremap-1.14.1 imagecodecs-2024.6.1 nvidia-cublas-cu12-12.1.3.1 nvidia-cuda-cupti-cu12-12.1.105 nvidia-cuda-nvrtc-cu12-12.1.105 nvidia-cuda-runtime-cu12-12.1.105 nvidia-cudnn-cu12-8.9.2.26 nvidia-cufft-cu12-11.0.2.54 nvidia-curand-cu12-10.3.2.106 nvidia-cusolver-cu12-11.4.5.107 nvidia-cusparse-cu12-12.1.0.106 nvidia-nccl-cu12-2.20.5 nvidia-nvjitlink-cu12-12.5.40 nvidia-nvtx-cu12-12.1.105 roifile-2024.5.24\n"
          ]
        },
        {
          "output_type": "stream",
          "name": "stderr",
          "text": [
            "100%|██████████| 25.3M/25.3M [00:01<00:00, 21.5MB/s]\n",
            "100%|██████████| 3.54k/3.54k [00:00<00:00, 2.20MB/s]\n"
          ]
        }
      ],
      "source": [
        "# Install cellpose module\n",
        "!pip install cellpose\n",
        "\n",
        "# Load the modules\n",
        "import numpy as np\n",
        "import time, os, sys\n",
        "from urllib.parse import urlparse\n",
        "import matplotlib.pyplot as plt\n",
        "import matplotlib as mpl\n",
        "%matplotlib inline\n",
        "mpl.rcParams['figure.dpi'] = 300\n",
        "from cellpose import models, utils, io, plot\n",
        "\n",
        "# Generate URLs for images from img00.png to img22.png\n",
        "# base_url = 'http://www.cellpose.org/static/images/'\n",
        "# urls = [f'{base_url}img{i:02d}.png' for i in range(23)]\n",
        "\n",
        "# files = []\n",
        "# for url in urls:\n",
        "#     parts = urlparse(url)\n",
        "#     filename = os.path.basename(parts.path)\n",
        "#     if not os.path.exists(filename):\n",
        "#         sys.stderr.write(f'Downloading: \"{url}\" to {filename}\\n')\n",
        "#         utils.download_url_to_file(url, filename)\n",
        "#     files.append(filename)\n",
        "\n",
        "# model_type='cyto3' or model_type='nuclei'\n",
        "model = models.Cellpose(gpu=False, model_type='cyto3')\n",
        "\n",
        "filename = \"/content/drive/MyDrive/_shortlinks/Copy of Well_A12_Ch1_1um.tiff\"\n",
        "\n",
        "# define CHANNELS to run segmentation on\n",
        "# channels = [[0, 0] for _ in range(23)]  # Assuming all images are grayscale\n",
        "\n",
        "# Lists to store results for later display\n",
        "# imgs = []\n",
        "# all_masks = []\n",
        "# all_flows = []\n",
        "# all_channels = []\n",
        "# filenames = []\n",
        "\n",
        "# Run segmentation\n",
        "# for chan, filename in zip(channels, files):\n",
        "#     img = io.imread(filename)\n",
        "#     masks, flows, styles, diams = model.eval(img, diameter=None, channels=chan)\n",
        "\n",
        "#     # Save results so you can load in GUI\n",
        "#     io.masks_flows_to_seg(img, masks, flows, filename, channels=chan, diams=diams)\n",
        "\n",
        "#     # Save results as PNG\n",
        "#     io.save_to_png(img, masks, flows, filename)\n",
        "\n",
        "#     # Append results to lists\n",
        "#     imgs.append(img)\n",
        "#     all_masks.append(masks)\n",
        "#     all_flows.append(flows)\n",
        "#     all_channels.append(chan)\n",
        "#     filenames.append(filename)\n",
        "\n",
        "# DISPLAY RESULTS\n",
        "# for img, masks, flows, chan, filename in zip(imgs, all_masks, all_flows, all_channels, filenames):\n",
        "#     fig = plt.figure(figsize=(12, 5))\n",
        "#     plot.show_segmentation(fig, img, masks, flows[0], channels=chan)\n",
        "#     plt.title(f'Segmentation Results for {filename}')\n",
        "#     plt.tight_layout()\n",
        "#     plt.show()"
      ]
    },
    {
      "cell_type": "code",
      "execution_count": null,
      "metadata": {
        "colab": {
          "background_save": true
        },
        "id": "wKyHwNF-wjNM"
      },
      "outputs": [],
      "source": [
        "# DISPLAY RESULTS\n",
        "# for img, masks, flows, chan, filename in zip(imgs, all_masks, all_flows, all_channels, filenames):\n",
        "#     fig = plt.figure(figsize=(12, 5))\n",
        "#     plot.show_segmentation(fig, img, masks, flows[0], channels=chan)\n",
        "#     plt.title(f'Segmentation Results for {filename}')\n",
        "#     plt.tight_layout()\n",
        "#     plt.show()"
      ]
    },
    {
      "cell_type": "code",
      "source": [
        "img = io.imread(filename)\n",
        "# masks, flows, styles, diams = model.eval(img, diameter=None, channels=[0,0])\n",
        "\n",
        "# Save results so you can load in GUI\n",
        "# io.masks_flows_to_seg(img, masks, flows, filename, channels=[0,0], diams=diams)"
      ],
      "metadata": {
        "id": "a7kQOP1T-6hl"
      },
      "execution_count": null,
      "outputs": []
    },
    {
      "cell_type": "code",
      "source": [
        "img"
      ],
      "metadata": {
        "colab": {
          "base_uri": "https://localhost:8080/"
        },
        "id": "yDAP9Ay-B3_x",
        "outputId": "687bfc88-8b55-430e-bf50-8b6ef7494905"
      },
      "execution_count": null,
      "outputs": [
        {
          "output_type": "execute_result",
          "data": {
            "text/plain": [
              "array([[103, 102, 103, ...,  98,  96,  97],\n",
              "       [104, 104, 104, ...,  97,  95,  97],\n",
              "       [102, 104, 104, ...,  97,  98,  98],\n",
              "       ...,\n",
              "       [ 99, 115, 137, ..., 102, 105, 107],\n",
              "       [110, 126, 144, ..., 105, 107, 107],\n",
              "       [117, 131, 149, ..., 107, 109, 109]], dtype=uint8)"
            ]
          },
          "metadata": {},
          "execution_count": 6
        }
      ]
    },
    {
      "cell_type": "code",
      "source": [
        "fig = plt.figure(figsize=(12, 5))\n",
        "plot.show_segmentation(fig, img, masks, flows, channels=[0,0])\n",
        "plt.title(f'Segmentation Results for {filename}')\n",
        "plt.tight_layout()\n",
        "plt.show()"
      ],
      "metadata": {
        "id": "NFBGVr8N_tTa"
      },
      "execution_count": null,
      "outputs": []
    }
  ],
  "metadata": {
    "colab": {
      "provenance": [],
      "mount_file_id": "17F57XSLVls7RDdOynIzkP2auqhWueyQc",
      "authorship_tag": "ABX9TyP0ob4xSF1a3WElxH5PNaIn",
      "include_colab_link": true
    },
    "kernelspec": {
      "display_name": "Python 3",
      "name": "python3"
    },
    "language_info": {
      "name": "python"
    }
  },
  "nbformat": 4,
  "nbformat_minor": 0
}